{
    "cells": [
        {
            "cell_type": "markdown",
            "metadata": {},
            "source": "Fisrt Jupiter nb in Watson"
        },
        {
            "cell_type": "code",
            "execution_count": 2,
            "metadata": {},
            "outputs": [
                {
                    "data": {
                        "text/html": "<div>\n<style scoped>\n    .dataframe tbody tr th:only-of-type {\n        vertical-align: middle;\n    }\n\n    .dataframe tbody tr th {\n        vertical-align: top;\n    }\n\n    .dataframe thead th {\n        text-align: right;\n    }\n</style>\n<table border=\"1\" class=\"dataframe\">\n  <thead>\n    <tr style=\"text-align: right;\">\n      <th></th>\n      <th>'popul'\t'TVnews'\t'selfLR'\t'ClinLR'\t'DoleLR'\t'PID'\t'age'\t'educ'\t'income'\t'vote'</th>\n    </tr>\n  </thead>\n  <tbody>\n    <tr>\n      <th>0</th>\n      <td>0\\t7\\t7\\t1\\t6\\t6\\t36\\t3\\t1\\t1</td>\n    </tr>\n    <tr>\n      <th>1</th>\n      <td>190\\t1\\t3\\t3\\t5\\t1\\t20\\t4\\t1\\t0</td>\n    </tr>\n    <tr>\n      <th>2</th>\n      <td>31\\t7\\t2\\t2\\t6\\t1\\t24\\t6\\t1\\t0</td>\n    </tr>\n    <tr>\n      <th>3</th>\n      <td>83\\t4\\t3\\t4\\t5\\t1\\t28\\t6\\t1\\t0</td>\n    </tr>\n    <tr>\n      <th>4</th>\n      <td>640\\t7\\t5\\t6\\t4\\t0\\t68\\t6\\t1\\t0</td>\n    </tr>\n  </tbody>\n</table>\n</div>",
                        "text/plain": "  'popul'\\t'TVnews'\\t'selfLR'\\t'ClinLR'\\t'DoleLR'\\t'PID'\\t'age'\\t'educ'\\t'income'\\t'vote'\n0                      0\\t7\\t7\\t1\\t6\\t6\\t36\\t3\\t1\\t1                                     \n1                    190\\t1\\t3\\t3\\t5\\t1\\t20\\t4\\t1\\t0                                     \n2                     31\\t7\\t2\\t2\\t6\\t1\\t24\\t6\\t1\\t0                                     \n3                     83\\t4\\t3\\t4\\t5\\t1\\t28\\t6\\t1\\t0                                     \n4                    640\\t7\\t5\\t6\\t4\\t0\\t68\\t6\\t1\\t0                                     "
                    },
                    "execution_count": 2,
                    "metadata": {},
                    "output_type": "execute_result"
                }
            ],
            "source": "# The code was removed by Watson Studio for sharing."
        },
        {
            "cell_type": "code",
            "execution_count": null,
            "metadata": {},
            "outputs": [],
            "source": ""
        }
    ],
    "metadata": {
        "kernelspec": {
            "display_name": "Python 3.6",
            "language": "python",
            "name": "python3"
        },
        "language_info": {
            "codemirror_mode": {
                "name": "ipython",
                "version": 3
            },
            "file_extension": ".py",
            "mimetype": "text/x-python",
            "name": "python",
            "nbconvert_exporter": "python",
            "pygments_lexer": "ipython3",
            "version": "3.6.9"
        }
    },
    "nbformat": 4,
    "nbformat_minor": 1
}